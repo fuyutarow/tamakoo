{
 "cells": [
  {
   "cell_type": "code",
   "execution_count": 35,
   "metadata": {
    "collapsed": true
   },
   "outputs": [],
   "source": [
    "from datetime import datetime\n",
    "import numpy as np\n",
    "import gensim\n",
    "from gensim import models\n",
    "from gensim.models import doc2vec\n",
    "from sklearn.metrics.pairwise import cosine_similarity\n",
    "import MeCab\n",
    "mecab = MeCab.Tagger(\"-Owakati -d /usr/local/lib/mecab/dic/mecab-ipadic-neologd/\") \n",
    "\n",
    "wakati = lambda sentence: gensim.utils.simple_preprocess(mecab.parse(sentence), min_len=1)"
   ]
  },
  {
   "cell_type": "code",
   "execution_count": 29,
   "metadata": {
    "collapsed": true
   },
   "outputs": [],
   "source": [
    "def read_toots(fname):\n",
    "    with open(fname) as f:\n",
    "        for i, line in enumerate(f):\n",
    "            text = line.split(',')[4]\n",
    "            yield doc2vec.TaggedDocument(wakati(text), tags=[i])\n",
    "\n",
    "def similar(line):\n",
    "    vec = model.infer_vector(wakati(line))\n",
    "    sims = cosine_similarity([vec], doc_vecs)\n",
    "    index = np.argsort(sims[0])[::-1]\n",
    "    for i in range(20):\n",
    "        print('#',''.join(doc[index[i]].split(' ')))"
   ]
  },
  {
   "cell_type": "code",
   "execution_count": 33,
   "metadata": {
    "collapsed": false
   },
   "outputs": [],
   "source": [
    "toots_fname = 'dump/tamakoo.20170611T220442.dump.csv'\n",
    "train_corpus = list(read_toots(toots_fname))"
   ]
  },
  {
   "cell_type": "code",
   "execution_count": 36,
   "metadata": {
    "collapsed": false
   },
   "outputs": [
    {
     "data": {
      "text/plain": [
       "16692968"
      ]
     },
     "execution_count": 36,
     "metadata": {},
     "output_type": "execute_result"
    }
   ],
   "source": [
    "now = datetime.now().strftime(\"%Y%m%dT%H%M%S\")\n",
    "model_fname = 'echo_model/tamakoo.'+now+'.doc2vec.model'\n",
    "model = doc2vec.Doc2Vec(\n",
    "    size=200, window=5, min_count=1, iter=20, workers=4, dm=1)\n",
    "model.build_vocab(train_corpus)\n",
    "model.train(train_corpus, total_examples=model.corpus_count)\n",
    "model.save(model_fname)"
   ]
  },
  {
   "cell_type": "code",
   "execution_count": 54,
   "metadata": {
    "collapsed": false
   },
   "outputs": [
    {
     "data": {
      "text/plain": [
       "'echo_model/doc2vec.20170611T223642.model'"
      ]
     },
     "execution_count": 54,
     "metadata": {},
     "output_type": "execute_result"
    }
   ],
   "source": [
    "model_fname"
   ]
  },
  {
   "cell_type": "code",
   "execution_count": 41,
   "metadata": {
    "collapsed": false
   },
   "outputs": [],
   "source": [
    "model = gensim.models.Doc2Vec.load(model_fname)\n",
    "doc = open(toots_fname).readlines()\n",
    "doc_vecs = [ model.infer_vector(wakati(mecab.parse(line.split(',')[4]))) for line in doc ]\n"
   ]
  },
  {
   "cell_type": "code",
   "execution_count": 53,
   "metadata": {
    "collapsed": false
   },
   "outputs": [
    {
     "name": "stdout",
     "output_type": "stream",
     "text": [
      "125,F101,20020108T______,70588,厨房に入りたい。,None\n",
      "\n",
      "13,F033,20011023T______,2911,Ｃさんに電話しておこうかな。,None\n",
      "\n",
      "96,F133,20011125T______,51442,言われるように。,None\n",
      "\n",
      "184,F134,20020715T______,114169,普通に着てるし。,None\n",
      "\n",
      "172,M035,20020722T______,109826,参考に聞かして。,None\n",
      "\n",
      "124869,松恭平,20170611T215655,128897,【ガ研の新入部員、貴族会に殴り込み】,http://ncode.syosetu.com/n9735cv/41/\n",
      "\n",
      "154,F153,20020222T______,100222,確定申告。,None\n",
      "\n",
      "126,M015,20020109T______,72268,病院にずっといたの？,None\n",
      "\n",
      "12,F128,20011023T______,4869,ちゃんと写っとる？,None\n",
      "\n",
      "24,F098,20011122T______,98832,無事に。,None\n",
      "\n",
      "24,F098,20011209T______,33449,こっちに、バッテリーが入ってる。,None\n",
      "\n",
      "11,M023,20011223T______,77932,ワンマン。,None\n",
      "\n",
      "156,M016,20020226T______,100676,で僕より先に治っていった皆さん。,None\n",
      "\n",
      "122,F073,20011221T______,66970,宮沢りえ。,None\n",
      "\n",
      "177,F047,20020701T______,111445,でもやっぱり。,None\n",
      "\n",
      "70,F097,20011210T______,39542,Ｔちゃん。,None\n",
      "\n",
      "121,F092,20011221T______,65536,５月３日に。,None\n",
      "\n",
      "9,F107,20011016T______,1726,Ａ子に。,None\n",
      "\n",
      "174,F026,20020803T______,111012,先輩が。,None\n",
      "\n",
      "43,M017,20011124T______,23896,ふんふんふんふんふん。,None\n",
      "\n",
      "70,F097,20011210T______,39569,こっちには来てるよ。,None\n",
      "\n",
      "124869,松恭平,20170611T215523,125760,「ベラの花束、合わせて３０００メノになります」,http://ncode.syosetu.com/n9735cv/11/\n",
      "\n",
      "82,F050,20020109T______,73984,７時ー、明日は７時に出てく。,None\n",
      "\n",
      "135,M008,20020117T______,79488,あ、ほんと。,None\n",
      "\n",
      "12,F128,20020118T______,87842,外に出るのは。,None\n",
      "\n",
      "32,F113,20011029T______,14800,やっぱりね。,None\n",
      "\n",
      "12,F128,20011223T______,76798,＜笑い＞空を飛ぶために。,None\n",
      "\n",
      "124869,松恭平,20170611T215755,131064,「人づてに聞いたような言い方ね。どういうこと？」,http://ncode.syosetu.com/n9735cv/62/\n",
      "\n",
      "12,F128,20011223T______,77862,アルペンに売ってるよ。,None\n",
      "\n",
      "11,M023,20011023T______,4167,博多。,None\n",
      "\n",
      "36,F152,20020110T______,97959,何かビニールとか掛けたりとかしたような気もするんだけど。,None\n",
      "\n",
      "29,F004,20020116T______,86046,ぶーぶー言われた？,None\n",
      "\n",
      "21,F011,20020114T______,80401,どこにいてる？,None\n",
      "\n",
      "36,F152,20011220T______,96702,お元気？,None\n",
      "\n",
      "159,F154,20020307T______,104060,＊ほんまに＊。,None\n",
      "\n",
      "186,M032,20020715T______,114707,異文化体験とか。,None\n",
      "\n",
      "173,F162,20020803T______,111102,＜笑い＞それにしか使えない。,None\n",
      "\n",
      "139,F024,20020117T______,81353,きついよー。,None\n",
      "\n",
      "12,F128,20011023T______,5603,どうする？,None\n",
      "\n",
      "176,M014,20020701T______,111229,はあ？,None\n",
      "\n",
      "23,F032,20011104T______,9013,あそこに住みつくにしたがって、＜笑い＞,None\n",
      "\n",
      "180,F141,20020709T______,112391,竹富とか。,None\n",
      "\n",
      "24,F098,20020124T______,99825,そういう感じ。,None\n",
      "\n",
      "124869,松恭平,20170611T215737,130396,「ふるひぇえ（うるせぇ）」,http://ncode.syosetu.com/n9735cv/55/\n",
      "\n",
      "90,F081,20011206T______,49082,うん。,None\n",
      "\n",
      "109,F058,20011114T______,56320,クロレッツ。,None\n",
      "\n",
      "36,F152,20011220T______,96781,元に戻す。,None\n",
      "\n",
      "11,M023,20011023T______,4587,適当に。,None\n",
      "\n",
      "15,M018,20011023T______,3637,学生に手伝わせて。,None\n",
      "\n",
      "115,F086,20011127T______,59312,ちゃんとこう。,None\n",
      "\n",
      "155,F130,20020228T______,102179,だったらもう。,None\n",
      "\n",
      "128,F031,20011129T______,72874,背の低い。,None\n",
      "\n",
      "11,M023,20011223T______,76557,ちょっと怖い。,None\n",
      "\n",
      "75,F057,20020118T______,90666,わからない？,None\n",
      "\n",
      "37,F088,20011108T______,17111,ふふふふふん。,None\n",
      "\n",
      "69,F093,20011214T______,43505,はい、お願いしまーす。,None\n",
      "\n",
      "34,F005,20011029T______,15521,うそ、うそ。,None\n",
      "\n",
      "16,F116,20011023T______,4633,かわいそう。,None\n",
      "\n",
      "69,F093,20020108T______,70579,そんなことない？,None\n",
      "\n",
      "20,F021,20011227T______,79218,え、なんでなんで。,None\n",
      "\n",
      "124,F121,20011227T______,69300,＜テープ反転＞,None\n",
      "\n",
      "136,M020,20020117T______,79473,メゾネット。,None\n",
      "\n",
      "120,F001,20011230T______,62916,全部匿名になるから。,None\n",
      "\n",
      "109,F058,20011114T______,56264,ワカメとかは？,None\n",
      "\n",
      "75,F057,20020118T______,90328,受ける？,None\n",
      "\n",
      "69,F093,20020118T______,90119,フルにミドルにエンプティ？,None\n",
      "\n",
      "127,M034,20020111T______,82753,今日、Ａ２君に肉じゃが作ってもらっちゃった。,None\n",
      "\n",
      "124869,松恭平,20170611T215505,125192,ミダはオズに視線を向けるとおもむろに手を伸ばし、肩をばしばしと叩き始めた。,http://ncode.syosetu.com/n9735cv/5/\n",
      "\n",
      "155,F130,20020307T______,104047,何か。,None\n",
      "\n",
      "121,F092,20011221T______,66969,これ、だれだ？,None\n",
      "\n",
      "109,F058,20011114T______,56423,またあとで＜笑い＞。,None\n",
      "\n",
      "90,F081,20011207T______,49366,うまく行かなかった。,None\n",
      "\n",
      "19,F048,20020117T______,96520,何になるの。,None\n",
      "\n",
      "124869,松恭平,20170611T215526,125855,「《バイキル・オーラ！》」,http://ncode.syosetu.com/n9735cv/12/\n",
      "\n",
      "93,F145,20011211T______,50330,うん、かわいいかもね。,None\n",
      "\n",
      "21,F011,20011102T______,7183,知ってる。＜笑い＞,None\n",
      "\n",
      "43,M017,20011124T______,23081,からい？,None\n",
      "\n",
      "121,F092,20011221T______,66508,あーあー。,None\n",
      "\n",
      "145,F156,20020116T______,90847,そうそうそうそう。,None\n",
      "\n",
      "124869,松恭平,20170611T215739,130480,「こんな感じ、か？」,http://ncode.syosetu.com/n9735cv/56/\n",
      "\n",
      "78,M021,20011124T______,42619,Ｃ【飼い猫の名前】ちゃん、よいしょ。,None\n",
      "\n",
      "36,F152,20011220T______,97254,古くって。,None\n",
      "\n",
      "9,F107,20011016T______,2245,夕ご飯食べに行く？,None\n",
      "\n",
      "132,F043,20020107T______,75887,＜録音中断＞,None\n",
      "\n",
      "29,F004,20011027T______,13881,（弱火に、とろ火に）とろ火に。,None\n",
      "\n",
      "122,F073,20011221T______,66384,あかん。,None\n",
      "\n",
      "166,F051,20020517T______,107160,で、あれーっと思ったのね。,None\n",
      "\n",
      "23,F032,20011104T______,10575,あそこに。,None\n",
      "\n",
      "12,F128,20011223T______,77292,大きい道に戻ってください。,None\n",
      "\n",
      "92,F040,20011221T______,52138,疲れちゃう、疲れちゃう。,None\n",
      "\n",
      "121,F092,20011221T______,66450,うん。,None\n",
      "\n",
      "99,M006,20011221T______,53699,積もる？,None\n",
      "\n",
      "124869,松恭平,20170611T215738,130447,「くそぅ、ユーリにリノちゃんをとられたよぅ……」,http://ncode.syosetu.com/n9735cv/56/\n",
      "\n",
      "168,F158,20020714T______,108859,あのＮＨＫの。,None\n",
      "\n",
      "24,F098,20011208T______,32954,ＬＡにいたの？,None\n",
      "\n",
      "68,F091,20011128T______,38417,そうじゃない？,None\n",
      "\n",
      "57,F002,20011128T______,30151,で、電話番号書いてある。,None\n",
      "\n",
      "171,M036,20020722T______,109947,（うん）どういう理由なの。,None\n",
      "\n",
      "12,F128,20021207T______,37410,それからパンケーキ。,None\n",
      "\n",
      "20,F021,20021207T______,37003,こんなに。,None\n",
      "\n"
     ]
    }
   ],
   "source": [
    "line = \"落ちないようにちゃんとつかまってろよ\"\n",
    "vec = model.infer_vector(wakati(line))\n",
    "sims = cosine_similarity([vec], doc_vecs)\n",
    "index = np.argsort(sims[0])[::-1]\n",
    "for i in range(100):\n",
    "    print(''.join(doc[index[i]].split(' ')))"
   ]
  }
 ],
 "metadata": {
  "kernelspec": {
   "display_name": "Python 3",
   "language": "python",
   "name": "python3"
  },
  "language_info": {
   "codemirror_mode": {
    "name": "ipython",
    "version": 3
   },
   "file_extension": ".py",
   "mimetype": "text/x-python",
   "name": "python",
   "nbconvert_exporter": "python",
   "pygments_lexer": "ipython3",
   "version": "3.6.0"
  }
 },
 "nbformat": 4,
 "nbformat_minor": 2
}
